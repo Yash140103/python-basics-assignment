{
  "nbformat": 4,
  "nbformat_minor": 0,
  "metadata": {
    "colab": {
      "provenance": []
    },
    "kernelspec": {
      "name": "python3",
      "display_name": "Python 3"
    },
    "language_info": {
      "name": "python"
    }
  },
  "cells": [
    {
      "cell_type": "code",
      "execution_count": null,
      "metadata": {
        "id": "ju_UMIGVPzlC"
      },
      "outputs": [],
      "source": []
    },
    {
      "cell_type": "markdown",
      "source": [
        "# PYTHON BASIC\n",
        "\n",
        "\n",
        "\n"
      ],
      "metadata": {
        "id": "J6oSMRC3P7aw"
      }
    },
    {
      "cell_type": "markdown",
      "source": [
        "Questions.\n",
        "\n",
        " 1. What is Python, and why is it popular\n",
        " - Python is easy to learn, and has simple syntax =, and support multiple applications like web development, data sciences and automation.\n",
        " - It is popular due to its readability, vast library support, cross-platform compatibility, and strong community support.\n",
        "\n",
        " 2. What is an interpreter in Python\n",
        "\n",
        " - An interpreter is a program that reads and executes Python code line by line, converting it into machine code so the computer can understand and run it.\n",
        "\n",
        " 3. What are pre-defined keywords in Python\n",
        " - Pre-defined keywords in Python are reserved wordds that have special meaning and purpose in the language.\n",
        "\n",
        "- Examples\n",
        "if,else,elif , while, for,def,True,None.\n",
        "\n",
        "4. Can keywords be used as variable names\n",
        "- NO, keywords cannot be used as variable names.\n",
        "\n",
        "5. What is mutability\n",
        "- Mutability means the ability of an object to be changed after it is created.\n",
        "\n",
        "6. Why are lists mutable, but tuples are immutable\n",
        "- Lists can be changed(items added,removed,or updated), whhile tuples cannot be changed after creaation,\n",
        "\n",
        "7. Difference between ==and is in Python?\n",
        "- ==checks for value equality, is checks for memory/reference equality.\n",
        "\n",
        "8. What are logical operators in Python?\n",
        "- and, or, and not are logical operators used to combine or modify boolean value.\n",
        "\n",
        "9. What is type casting in Python?\n",
        "- Converting one data type into another, like int(\"5\")\n",
        "\n",
        "10. Differnece between explicit implicit and explicit type casting?\n",
        "- Implicit : automatically done by Python\n",
        "  Explicit: done manually by using functions like int, float\n",
        "\n",
        "11. What is the purpose of conditional statements in Python?\n",
        "- They allow program to make decisions and execute code basd on conditions (if,elif,else)\n",
        "\n",
        "12. Hoe=w does the elif statement works?\n",
        "- elif checks another condition if the previous if was false.\n",
        "\n",
        "13. Difference between for and while loops?\n",
        "- for loop is used when the number of iterations is known.\n",
        "  while loop is used when the conditions is checked at each step, and iterations are unknown.\n",
        "\n",
        "14. Scenario where a while loop is better than a for loop?\n",
        "- When you want to repeat actions until a condtion is met and you don't know how many times it willl repeat.\n"
      ],
      "metadata": {
        "id": "yERoX7-cRJxS"
      }
    },
    {
      "cell_type": "code",
      "source": [],
      "metadata": {
        "id": "GeUsEUdWRIxu"
      },
      "execution_count": null,
      "outputs": []
    },
    {
      "cell_type": "markdown",
      "source": [
        "1. Write a Python program to print \"Hello, World!\""
      ],
      "metadata": {
        "id": "N30Ts6Druc6y"
      }
    },
    {
      "cell_type": "code",
      "source": [
        "print (\"Hello, World\")"
      ],
      "metadata": {
        "colab": {
          "base_uri": "https://localhost:8080/"
        },
        "id": "1FJSDRy9ut8w",
        "outputId": "6f1d7cd6-0438-44fa-8351-901539cc20ce"
      },
      "execution_count": 1,
      "outputs": [
        {
          "output_type": "stream",
          "name": "stdout",
          "text": [
            "Hello, World\n"
          ]
        }
      ]
    },
    {
      "cell_type": "markdown",
      "source": [
        "2. Write a Python program that displays your name and age."
      ],
      "metadata": {
        "id": "PAUpbm3yu27I"
      }
    },
    {
      "cell_type": "code",
      "source": [
        "name = \"Yash\"\n",
        "age = 22\n",
        "print (\"Name:\", name)\n",
        "print (\"Age:\", age)"
      ],
      "metadata": {
        "colab": {
          "base_uri": "https://localhost:8080/"
        },
        "id": "mlN2n6TquzZf",
        "outputId": "a7bca384-0d27-4d04-cf72-c155b6dd9f36"
      },
      "execution_count": 3,
      "outputs": [
        {
          "output_type": "stream",
          "name": "stdout",
          "text": [
            "Name: Yash\n",
            "Age: 22\n"
          ]
        }
      ]
    },
    {
      "cell_type": "markdown",
      "source": [
        "3. Write code to print all the pre-defined keywords in Python using the keyword library."
      ],
      "metadata": {
        "id": "DizccFtJvc9E"
      }
    },
    {
      "cell_type": "code",
      "source": [
        "import keyword\n",
        "print (keyword.kwlist)"
      ],
      "metadata": {
        "colab": {
          "base_uri": "https://localhost:8080/"
        },
        "id": "LwYAT-RFvVdW",
        "outputId": "488fcb88-cd34-465f-bf2b-f384fc8cec65"
      },
      "execution_count": 4,
      "outputs": [
        {
          "output_type": "stream",
          "name": "stdout",
          "text": [
            "['False', 'None', 'True', 'and', 'as', 'assert', 'async', 'await', 'break', 'class', 'continue', 'def', 'del', 'elif', 'else', 'except', 'finally', 'for', 'from', 'global', 'if', 'import', 'in', 'is', 'lambda', 'nonlocal', 'not', 'or', 'pass', 'raise', 'return', 'try', 'while', 'with', 'yield']\n"
          ]
        }
      ]
    },
    {
      "cell_type": "code",
      "source": [],
      "metadata": {
        "id": "BRC3e0WIvxmm"
      },
      "execution_count": null,
      "outputs": []
    },
    {
      "cell_type": "markdown",
      "source": [
        "Write a program that checks if a given word is a Python keyword."
      ],
      "metadata": {
        "id": "cwZTNFM3v4v6"
      }
    },
    {
      "cell_type": "code",
      "source": [
        "import keyword\n",
        "word = \"if\"\n",
        "print (keyword.iskeyword(word))"
      ],
      "metadata": {
        "colab": {
          "base_uri": "https://localhost:8080/"
        },
        "id": "SgiHwBPdv78C",
        "outputId": "d8b5b375-52d6-4ce4-9bb6-2fde590a0bb9"
      },
      "execution_count": 5,
      "outputs": [
        {
          "output_type": "stream",
          "name": "stdout",
          "text": [
            "True\n"
          ]
        }
      ]
    },
    {
      "cell_type": "markdown",
      "source": [],
      "metadata": {
        "id": "PE79Kn-Ev37T"
      }
    },
    {
      "cell_type": "markdown",
      "source": [
        "Create a list and tuple in Python, and demonstrate how attempting to change an element works differently\n",
        "for each."
      ],
      "metadata": {
        "id": "gMUBuNtNwfvT"
      }
    },
    {
      "cell_type": "code",
      "source": [
        "my_list = [1, 2, 3]\n",
        "my_tuple = (1,2,3)\n",
        "\n",
        "my_list[0]= 10\n",
        "my_tuple[0] = 10"
      ],
      "metadata": {
        "colab": {
          "base_uri": "https://localhost:8080/",
          "height": 176
        },
        "id": "0lNtCH-Lwe2h",
        "outputId": "7aaea63a-af65-4f56-fb32-26c9aaa2422e"
      },
      "execution_count": 16,
      "outputs": [
        {
          "output_type": "error",
          "ename": "TypeError",
          "evalue": "'tuple' object does not support item assignment",
          "traceback": [
            "\u001b[0;31m---------------------------------------------------------------------------\u001b[0m",
            "\u001b[0;31mTypeError\u001b[0m                                 Traceback (most recent call last)",
            "\u001b[0;32m<ipython-input-16-15e6d5ff25a9>\u001b[0m in \u001b[0;36m<cell line: 0>\u001b[0;34m()\u001b[0m\n\u001b[1;32m      3\u001b[0m \u001b[0;34m\u001b[0m\u001b[0m\n\u001b[1;32m      4\u001b[0m \u001b[0mmy_list\u001b[0m\u001b[0;34m[\u001b[0m\u001b[0;36m0\u001b[0m\u001b[0;34m]\u001b[0m\u001b[0;34m=\u001b[0m \u001b[0;36m10\u001b[0m\u001b[0;34m\u001b[0m\u001b[0;34m\u001b[0m\u001b[0m\n\u001b[0;32m----> 5\u001b[0;31m \u001b[0mmy_tuple\u001b[0m\u001b[0;34m[\u001b[0m\u001b[0;36m0\u001b[0m\u001b[0;34m]\u001b[0m \u001b[0;34m=\u001b[0m \u001b[0;36m10\u001b[0m\u001b[0;34m\u001b[0m\u001b[0;34m\u001b[0m\u001b[0m\n\u001b[0m",
            "\u001b[0;31mTypeError\u001b[0m: 'tuple' object does not support item assignment"
          ]
        }
      ]
    },
    {
      "cell_type": "code",
      "source": [],
      "metadata": {
        "id": "EKzv1OVBxKWB"
      },
      "execution_count": null,
      "outputs": []
    },
    {
      "cell_type": "markdown",
      "source": [
        "Write a function to demonstrate the behavior of mutable and immutable arguments."
      ],
      "metadata": {
        "id": "1vZy0RV2xT5-"
      }
    },
    {
      "cell_type": "code",
      "source": [
        "def change(x):\n",
        "    x[0]= 100\n",
        "\n",
        "lst = [1,2]\n",
        "change (lst)\n",
        "print (lst)  # Mutable : changed\n"
      ],
      "metadata": {
        "colab": {
          "base_uri": "https://localhost:8080/"
        },
        "id": "rsJd3ltJxdpq",
        "outputId": "55a245ab-fff1-4c6b-ff96-a3b4d708e8ba"
      },
      "execution_count": 14,
      "outputs": [
        {
          "output_type": "stream",
          "name": "stdout",
          "text": [
            "[100, 2]\n"
          ]
        }
      ]
    },
    {
      "cell_type": "markdown",
      "source": [
        "Write a program that performs basic arithmetic operations on two user-input numbers."
      ],
      "metadata": {
        "id": "A2t2y0DC1gUu"
      }
    },
    {
      "cell_type": "code",
      "source": [
        "a = int(input(\"Enter first number:\"))\n",
        "b= int(input(\"Enter second number\"))\n",
        "print (\"Sum:\", a + b)\n",
        "print (\"Difference:\", a - b)\n",
        "print (\"Product:\", a * b)\n",
        "print (\"Division:\", a / b)"
      ],
      "metadata": {
        "colab": {
          "base_uri": "https://localhost:8080/"
        },
        "id": "dl1GdZ3WylZ2",
        "outputId": "469b4b05-2334-46ac-c51d-44eaa9d499fe"
      },
      "execution_count": 17,
      "outputs": [
        {
          "output_type": "stream",
          "name": "stdout",
          "text": [
            "Enter first number:10\n",
            "Enter second number5\n",
            "Sum: 15\n",
            "Difference: 5\n",
            "Product: 50\n",
            "Division: 2.0\n"
          ]
        }
      ]
    },
    {
      "cell_type": "markdown",
      "source": [
        "Write a program to demonstrate the use of logical operators"
      ],
      "metadata": {
        "id": "UCOrdY3c4Swj"
      }
    },
    {
      "cell_type": "code",
      "source": [
        "a = 5\n",
        "b = 10\n",
        "print (a>3 and b< 15)\n",
        "print (a> 10 or b == 10)"
      ],
      "metadata": {
        "colab": {
          "base_uri": "https://localhost:8080/"
        },
        "id": "XIAFE27C3p57",
        "outputId": "170eb250-0332-4aa9-ecb7-8c7e473482b8"
      },
      "execution_count": 18,
      "outputs": [
        {
          "output_type": "stream",
          "name": "stdout",
          "text": [
            "True\n",
            "True\n"
          ]
        }
      ]
    },
    {
      "cell_type": "code",
      "source": [],
      "metadata": {
        "id": "ArXP2WYX46p3"
      },
      "execution_count": null,
      "outputs": []
    },
    {
      "cell_type": "markdown",
      "source": [
        " Write a Python program to convert user input from string to integer, float, and boolean types.\n",
        "\n"
      ],
      "metadata": {
        "id": "F5jLlhBB5AUK"
      }
    },
    {
      "cell_type": "code",
      "source": [
        "x = input(\"Enter a number:\")\n",
        "print (int(x), float (x), bool (x))"
      ],
      "metadata": {
        "colab": {
          "base_uri": "https://localhost:8080/"
        },
        "id": "WMV4726E5GFV",
        "outputId": "b2424bb7-72b1-4c0f-b6ad-d9e5f6017f58"
      },
      "execution_count": 20,
      "outputs": [
        {
          "output_type": "stream",
          "name": "stdout",
          "text": [
            "Enter a number:5\n",
            "5 5.0 True\n"
          ]
        }
      ]
    },
    {
      "cell_type": "markdown",
      "source": [
        "Write code to demonstrate type casting with list elements."
      ],
      "metadata": {
        "id": "idnvjHSN5o-3"
      }
    },
    {
      "cell_type": "code",
      "source": [
        "lst = ['1' , '2' , '3']\n",
        "int_list = list(map(int,lst))\n",
        "print (int_list)"
      ],
      "metadata": {
        "colab": {
          "base_uri": "https://localhost:8080/"
        },
        "id": "SGiso6QZ5bia",
        "outputId": "8684b28f-9fe4-45b7-a085-0d0f128ef4d2"
      },
      "execution_count": 22,
      "outputs": [
        {
          "output_type": "stream",
          "name": "stdout",
          "text": [
            "[1, 2, 3]\n"
          ]
        }
      ]
    },
    {
      "cell_type": "markdown",
      "source": [
        " Write a program that checks if a number is positive, negative, or zero."
      ],
      "metadata": {
        "id": "f8vwD6Pz6ZA0"
      }
    },
    {
      "cell_type": "code",
      "source": [
        "num = int(input(\"Enter a number:\"))\n",
        "if num>0 :\n",
        "  print(\"Positive\")\n",
        "elif num<0 :\n",
        "    print(\"Negative\")\n",
        "\n",
        "else:\n",
        "    print(\"Zero\")"
      ],
      "metadata": {
        "colab": {
          "base_uri": "https://localhost:8080/"
        },
        "id": "teu-ilhG6Oal",
        "outputId": "e34bb280-254d-4162-82c7-af5ca6dd405a"
      },
      "execution_count": 27,
      "outputs": [
        {
          "output_type": "stream",
          "name": "stdout",
          "text": [
            "Enter a number:10\n",
            "Positive\n"
          ]
        }
      ]
    },
    {
      "cell_type": "markdown",
      "source": [
        "Write a for loop to print numbers from 1 to 10."
      ],
      "metadata": {
        "id": "-dFgnnAV-Mkp"
      }
    },
    {
      "cell_type": "code",
      "source": [
        "for i in range (1, 11):\n",
        "  print(i)"
      ],
      "metadata": {
        "colab": {
          "base_uri": "https://localhost:8080/"
        },
        "id": "lRK5TVc57AD1",
        "outputId": "bb381490-8abb-4f1c-da8d-2038f07d3d3c"
      },
      "execution_count": 28,
      "outputs": [
        {
          "output_type": "stream",
          "name": "stdout",
          "text": [
            "1\n",
            "2\n",
            "3\n",
            "4\n",
            "5\n",
            "6\n",
            "7\n",
            "8\n",
            "9\n",
            "10\n"
          ]
        }
      ]
    },
    {
      "cell_type": "markdown",
      "source": [
        " Write a Python program to find the sum of all even numbers between 1 and 50"
      ],
      "metadata": {
        "id": "aNLcIeQA-gvx"
      }
    },
    {
      "cell_type": "code",
      "source": [
        "total = 0\n",
        "for i in range (2, 51, 2):\n",
        "  total += i\n",
        "  print (total)"
      ],
      "metadata": {
        "colab": {
          "base_uri": "https://localhost:8080/"
        },
        "id": "7lxX7uF8-bGJ",
        "outputId": "565aee0e-ea84-4fd6-e8f6-dee0c582e12c"
      },
      "execution_count": 29,
      "outputs": [
        {
          "output_type": "stream",
          "name": "stdout",
          "text": [
            "2\n",
            "6\n",
            "12\n",
            "20\n",
            "30\n",
            "42\n",
            "56\n",
            "72\n",
            "90\n",
            "110\n",
            "132\n",
            "156\n",
            "182\n",
            "210\n",
            "240\n",
            "272\n",
            "306\n",
            "342\n",
            "380\n",
            "420\n",
            "462\n",
            "506\n",
            "552\n",
            "600\n",
            "650\n"
          ]
        }
      ]
    },
    {
      "cell_type": "markdown",
      "source": [
        "Write a program to reverse a string using a while loop"
      ],
      "metadata": {
        "id": "0D3-U1Kl--TY"
      }
    },
    {
      "cell_type": "code",
      "source": [
        "s = \"Hello\"\n",
        "rev = \"\"\n",
        "i = len(s) - 1\n",
        "while i >= 0:\n",
        "  rev += s[i]\n",
        "  i -= 1\n",
        "  print(rev)"
      ],
      "metadata": {
        "colab": {
          "base_uri": "https://localhost:8080/"
        },
        "id": "j8x2aI8_-4tV",
        "outputId": "48bf03cf-4e41-47f5-ae3d-b87575f31513"
      },
      "execution_count": 32,
      "outputs": [
        {
          "output_type": "stream",
          "name": "stdout",
          "text": [
            "o\n",
            "ol\n",
            "oll\n",
            "olle\n",
            "olleH\n"
          ]
        }
      ]
    },
    {
      "cell_type": "markdown",
      "source": [
        " Write a Python program to calculate the factorial of a number provided by the user using a while loop"
      ],
      "metadata": {
        "id": "VwZIVM6lPDZl"
      }
    },
    {
      "cell_type": "code",
      "source": [
        "num = int(input(\"Enter a number: \"))\n",
        "fact = 1\n",
        "while num > 0:\n",
        "  fact *= num\n",
        "  num -= 1\n",
        "print(fact)\n"
      ],
      "metadata": {
        "colab": {
          "base_uri": "https://localhost:8080/"
        },
        "id": "w6gnL5fi_lat",
        "outputId": "de2a808f-d688-4285-bdec-1a834f1a8063"
      },
      "execution_count": 33,
      "outputs": [
        {
          "output_type": "stream",
          "name": "stdout",
          "text": [
            "Enter a number: 5\n",
            "120\n"
          ]
        }
      ]
    },
    {
      "cell_type": "code",
      "source": [],
      "metadata": {
        "id": "LCbaUFrAPiCn"
      },
      "execution_count": null,
      "outputs": []
    }
  ]
}